{
  "nbformat": 4,
  "nbformat_minor": 0,
  "metadata": {
    "colab": {
      "provenance": []
    },
    "kernelspec": {
      "name": "python3",
      "display_name": "Python 3"
    },
    "language_info": {
      "name": "python"
    }
  },
  "cells": [
    {
      "cell_type": "markdown",
      "source": [
        "Chris Hinckley\n",
        "Project 4"
      ],
      "metadata": {
        "id": "0SMYVD1YGOEd"
      }
    },
    {
      "cell_type": "markdown",
      "source": [
        "**1. Use the following nutrition dataset:**"
      ],
      "metadata": {
        "id": "T2TWQeRbmdLQ"
      }
    },
    {
      "cell_type": "code",
      "source": [],
      "metadata": {
        "id": "rgc7cBJLoaZA"
      },
      "execution_count": null,
      "outputs": []
    },
    {
      "cell_type": "markdown",
      "source": [
        "**2. Sort the data set by saturated_ fat and produce a listing of the five food items highest in saturated fat. Comment on the validity of comparing food items of different sizes.**"
      ],
      "metadata": {
        "id": "hKlDPNWZmprQ"
      }
    },
    {
      "cell_type": "code",
      "execution_count": null,
      "metadata": {
        "colab": {
          "base_uri": "https://localhost:8080/",
          "height": 206
        },
        "id": "O8nUO9svGEGI",
        "outputId": "aa0fe350-de68-488d-f3f0-7a486ad181c6"
      },
      "outputs": [
        {
          "output_type": "execute_result",
          "data": {
            "text/plain": [
              "                                  food item  weight_in_grams  saturated_fat  \\\n",
              "378  CHEESECAKE                    1 CAKE             1110.0          119.9   \n",
              "535  ICE CREAM; VANLLA; RICH 16% FT1/2 GAL            1188.0          118.3   \n",
              "458  YELLOWCAKE W/ CHOCFRSTNG;COMML1 CAKE             1108.0           92.0   \n",
              "581  CREME PIE                     1 PIE               910.0           90.1   \n",
              "890  LARD                          1 CUP               205.0           80.4   \n",
              "\n",
              "     cholesterol  \n",
              "378         2053  \n",
              "535          703  \n",
              "458          609  \n",
              "581           46  \n",
              "890          195  "
            ],
            "text/html": [
              "\n",
              "  <div id=\"df-ec15b2f1-53d4-496b-8e14-0e9166331274\" class=\"colab-df-container\">\n",
              "    <div>\n",
              "<style scoped>\n",
              "    .dataframe tbody tr th:only-of-type {\n",
              "        vertical-align: middle;\n",
              "    }\n",
              "\n",
              "    .dataframe tbody tr th {\n",
              "        vertical-align: top;\n",
              "    }\n",
              "\n",
              "    .dataframe thead th {\n",
              "        text-align: right;\n",
              "    }\n",
              "</style>\n",
              "<table border=\"1\" class=\"dataframe\">\n",
              "  <thead>\n",
              "    <tr style=\"text-align: right;\">\n",
              "      <th></th>\n",
              "      <th>food item</th>\n",
              "      <th>weight_in_grams</th>\n",
              "      <th>saturated_fat</th>\n",
              "      <th>cholesterol</th>\n",
              "    </tr>\n",
              "  </thead>\n",
              "  <tbody>\n",
              "    <tr>\n",
              "      <th>378</th>\n",
              "      <td>CHEESECAKE                    1 CAKE</td>\n",
              "      <td>1110.0</td>\n",
              "      <td>119.9</td>\n",
              "      <td>2053</td>\n",
              "    </tr>\n",
              "    <tr>\n",
              "      <th>535</th>\n",
              "      <td>ICE CREAM; VANLLA; RICH 16% FT1/2 GAL</td>\n",
              "      <td>1188.0</td>\n",
              "      <td>118.3</td>\n",
              "      <td>703</td>\n",
              "    </tr>\n",
              "    <tr>\n",
              "      <th>458</th>\n",
              "      <td>YELLOWCAKE W/ CHOCFRSTNG;COMML1 CAKE</td>\n",
              "      <td>1108.0</td>\n",
              "      <td>92.0</td>\n",
              "      <td>609</td>\n",
              "    </tr>\n",
              "    <tr>\n",
              "      <th>581</th>\n",
              "      <td>CREME PIE                     1 PIE</td>\n",
              "      <td>910.0</td>\n",
              "      <td>90.1</td>\n",
              "      <td>46</td>\n",
              "    </tr>\n",
              "    <tr>\n",
              "      <th>890</th>\n",
              "      <td>LARD                          1 CUP</td>\n",
              "      <td>205.0</td>\n",
              "      <td>80.4</td>\n",
              "      <td>195</td>\n",
              "    </tr>\n",
              "  </tbody>\n",
              "</table>\n",
              "</div>\n",
              "    <div class=\"colab-df-buttons\">\n",
              "\n",
              "  <div class=\"colab-df-container\">\n",
              "    <button class=\"colab-df-convert\" onclick=\"convertToInteractive('df-ec15b2f1-53d4-496b-8e14-0e9166331274')\"\n",
              "            title=\"Convert this dataframe to an interactive table.\"\n",
              "            style=\"display:none;\">\n",
              "\n",
              "  <svg xmlns=\"http://www.w3.org/2000/svg\" height=\"24px\" viewBox=\"0 -960 960 960\">\n",
              "    <path d=\"M120-120v-720h720v720H120Zm60-500h600v-160H180v160Zm220 220h160v-160H400v160Zm0 220h160v-160H400v160ZM180-400h160v-160H180v160Zm440 0h160v-160H620v160ZM180-180h160v-160H180v160Zm440 0h160v-160H620v160Z\"/>\n",
              "  </svg>\n",
              "    </button>\n",
              "\n",
              "  <style>\n",
              "    .colab-df-container {\n",
              "      display:flex;\n",
              "      gap: 12px;\n",
              "    }\n",
              "\n",
              "    .colab-df-convert {\n",
              "      background-color: #E8F0FE;\n",
              "      border: none;\n",
              "      border-radius: 50%;\n",
              "      cursor: pointer;\n",
              "      display: none;\n",
              "      fill: #1967D2;\n",
              "      height: 32px;\n",
              "      padding: 0 0 0 0;\n",
              "      width: 32px;\n",
              "    }\n",
              "\n",
              "    .colab-df-convert:hover {\n",
              "      background-color: #E2EBFA;\n",
              "      box-shadow: 0px 1px 2px rgba(60, 64, 67, 0.3), 0px 1px 3px 1px rgba(60, 64, 67, 0.15);\n",
              "      fill: #174EA6;\n",
              "    }\n",
              "\n",
              "    .colab-df-buttons div {\n",
              "      margin-bottom: 4px;\n",
              "    }\n",
              "\n",
              "    [theme=dark] .colab-df-convert {\n",
              "      background-color: #3B4455;\n",
              "      fill: #D2E3FC;\n",
              "    }\n",
              "\n",
              "    [theme=dark] .colab-df-convert:hover {\n",
              "      background-color: #434B5C;\n",
              "      box-shadow: 0px 1px 3px 1px rgba(0, 0, 0, 0.15);\n",
              "      filter: drop-shadow(0px 1px 2px rgba(0, 0, 0, 0.3));\n",
              "      fill: #FFFFFF;\n",
              "    }\n",
              "  </style>\n",
              "\n",
              "    <script>\n",
              "      const buttonEl =\n",
              "        document.querySelector('#df-ec15b2f1-53d4-496b-8e14-0e9166331274 button.colab-df-convert');\n",
              "      buttonEl.style.display =\n",
              "        google.colab.kernel.accessAllowed ? 'block' : 'none';\n",
              "\n",
              "      async function convertToInteractive(key) {\n",
              "        const element = document.querySelector('#df-ec15b2f1-53d4-496b-8e14-0e9166331274');\n",
              "        const dataTable =\n",
              "          await google.colab.kernel.invokeFunction('convertToInteractive',\n",
              "                                                    [key], {});\n",
              "        if (!dataTable) return;\n",
              "\n",
              "        const docLinkHtml = 'Like what you see? Visit the ' +\n",
              "          '<a target=\"_blank\" href=https://colab.research.google.com/notebooks/data_table.ipynb>data table notebook</a>'\n",
              "          + ' to learn more about interactive tables.';\n",
              "        element.innerHTML = '';\n",
              "        dataTable['output_type'] = 'display_data';\n",
              "        await google.colab.output.renderOutput(dataTable, element);\n",
              "        const docLink = document.createElement('div');\n",
              "        docLink.innerHTML = docLinkHtml;\n",
              "        element.appendChild(docLink);\n",
              "      }\n",
              "    </script>\n",
              "  </div>\n",
              "\n",
              "\n",
              "<div id=\"df-aa1721d8-df83-4293-9522-b24837f48147\">\n",
              "  <button class=\"colab-df-quickchart\" onclick=\"quickchart('df-aa1721d8-df83-4293-9522-b24837f48147')\"\n",
              "            title=\"Suggest charts\"\n",
              "            style=\"display:none;\">\n",
              "\n",
              "<svg xmlns=\"http://www.w3.org/2000/svg\" height=\"24px\"viewBox=\"0 0 24 24\"\n",
              "     width=\"24px\">\n",
              "    <g>\n",
              "        <path d=\"M19 3H5c-1.1 0-2 .9-2 2v14c0 1.1.9 2 2 2h14c1.1 0 2-.9 2-2V5c0-1.1-.9-2-2-2zM9 17H7v-7h2v7zm4 0h-2V7h2v10zm4 0h-2v-4h2v4z\"/>\n",
              "    </g>\n",
              "</svg>\n",
              "  </button>\n",
              "\n",
              "<style>\n",
              "  .colab-df-quickchart {\n",
              "      --bg-color: #E8F0FE;\n",
              "      --fill-color: #1967D2;\n",
              "      --hover-bg-color: #E2EBFA;\n",
              "      --hover-fill-color: #174EA6;\n",
              "      --disabled-fill-color: #AAA;\n",
              "      --disabled-bg-color: #DDD;\n",
              "  }\n",
              "\n",
              "  [theme=dark] .colab-df-quickchart {\n",
              "      --bg-color: #3B4455;\n",
              "      --fill-color: #D2E3FC;\n",
              "      --hover-bg-color: #434B5C;\n",
              "      --hover-fill-color: #FFFFFF;\n",
              "      --disabled-bg-color: #3B4455;\n",
              "      --disabled-fill-color: #666;\n",
              "  }\n",
              "\n",
              "  .colab-df-quickchart {\n",
              "    background-color: var(--bg-color);\n",
              "    border: none;\n",
              "    border-radius: 50%;\n",
              "    cursor: pointer;\n",
              "    display: none;\n",
              "    fill: var(--fill-color);\n",
              "    height: 32px;\n",
              "    padding: 0;\n",
              "    width: 32px;\n",
              "  }\n",
              "\n",
              "  .colab-df-quickchart:hover {\n",
              "    background-color: var(--hover-bg-color);\n",
              "    box-shadow: 0 1px 2px rgba(60, 64, 67, 0.3), 0 1px 3px 1px rgba(60, 64, 67, 0.15);\n",
              "    fill: var(--button-hover-fill-color);\n",
              "  }\n",
              "\n",
              "  .colab-df-quickchart-complete:disabled,\n",
              "  .colab-df-quickchart-complete:disabled:hover {\n",
              "    background-color: var(--disabled-bg-color);\n",
              "    fill: var(--disabled-fill-color);\n",
              "    box-shadow: none;\n",
              "  }\n",
              "\n",
              "  .colab-df-spinner {\n",
              "    border: 2px solid var(--fill-color);\n",
              "    border-color: transparent;\n",
              "    border-bottom-color: var(--fill-color);\n",
              "    animation:\n",
              "      spin 1s steps(1) infinite;\n",
              "  }\n",
              "\n",
              "  @keyframes spin {\n",
              "    0% {\n",
              "      border-color: transparent;\n",
              "      border-bottom-color: var(--fill-color);\n",
              "      border-left-color: var(--fill-color);\n",
              "    }\n",
              "    20% {\n",
              "      border-color: transparent;\n",
              "      border-left-color: var(--fill-color);\n",
              "      border-top-color: var(--fill-color);\n",
              "    }\n",
              "    30% {\n",
              "      border-color: transparent;\n",
              "      border-left-color: var(--fill-color);\n",
              "      border-top-color: var(--fill-color);\n",
              "      border-right-color: var(--fill-color);\n",
              "    }\n",
              "    40% {\n",
              "      border-color: transparent;\n",
              "      border-right-color: var(--fill-color);\n",
              "      border-top-color: var(--fill-color);\n",
              "    }\n",
              "    60% {\n",
              "      border-color: transparent;\n",
              "      border-right-color: var(--fill-color);\n",
              "    }\n",
              "    80% {\n",
              "      border-color: transparent;\n",
              "      border-right-color: var(--fill-color);\n",
              "      border-bottom-color: var(--fill-color);\n",
              "    }\n",
              "    90% {\n",
              "      border-color: transparent;\n",
              "      border-bottom-color: var(--fill-color);\n",
              "    }\n",
              "  }\n",
              "</style>\n",
              "\n",
              "  <script>\n",
              "    async function quickchart(key) {\n",
              "      const quickchartButtonEl =\n",
              "        document.querySelector('#' + key + ' button');\n",
              "      quickchartButtonEl.disabled = true;  // To prevent multiple clicks.\n",
              "      quickchartButtonEl.classList.add('colab-df-spinner');\n",
              "      try {\n",
              "        const charts = await google.colab.kernel.invokeFunction(\n",
              "            'suggestCharts', [key], {});\n",
              "      } catch (error) {\n",
              "        console.error('Error during call to suggestCharts:', error);\n",
              "      }\n",
              "      quickchartButtonEl.classList.remove('colab-df-spinner');\n",
              "      quickchartButtonEl.classList.add('colab-df-quickchart-complete');\n",
              "    }\n",
              "    (() => {\n",
              "      let quickchartButtonEl =\n",
              "        document.querySelector('#df-aa1721d8-df83-4293-9522-b24837f48147 button');\n",
              "      quickchartButtonEl.style.display =\n",
              "        google.colab.kernel.accessAllowed ? 'block' : 'none';\n",
              "    })();\n",
              "  </script>\n",
              "</div>\n",
              "    </div>\n",
              "  </div>\n"
            ]
          },
          "metadata": {},
          "execution_count": 53
        }
      ],
      "source": [
        "import pandas as pd\n",
        "\n",
        "# Reading file into data frame\n",
        "saturated_fat = pd.read_csv(\"https://raw.githubusercontent.com/bforoura/IDS/main/HW4/nutrition_subset.csv\")\n",
        "\n",
        "# Sorting by Sat. Fat.\n",
        "saturated_fat.sort_values(by=['saturated_fat'], ascending=False).iloc[0:5, 0:6]"
      ]
    },
    {
      "cell_type": "code",
      "source": [
        "# Check the first few rows to understand how the data is structured\n",
        "print(saturated_fat.head())\n"
      ],
      "metadata": {
        "colab": {
          "base_uri": "https://localhost:8080/"
        },
        "id": "tCs0q6fKfyBX",
        "outputId": "2959478b-7e88-4b63-ed3b-ebb7d30832c4"
      },
      "execution_count": null,
      "outputs": [
        {
          "output_type": "stream",
          "name": "stdout",
          "text": [
            "                                food item  weight_in_grams  saturated_fat  \\\n",
            "0  GELATIN; DRY                  1 ENVELP        -0.809561      -0.371136   \n",
            "1  SEAWEED; SPIRULINA; DRIED     1 OZ            -0.688192      -0.296678   \n",
            "2  YEAST; BAKERS; DRY; ACTIVE    1 PKG           -0.809561      -0.371136   \n",
            "3  PARMESAN CHEESE; GRATED       1 OZ            -0.688192       0.131453   \n",
            "4  PARMESAN CHEESE; GRATED       1 CUP           -0.280880       1.406541   \n",
            "\n",
            "   cholesterol  saturated_fat_per_gram  saturated_fat_per_gram_z  is_outlier  \n",
            "0    -0.271369               -0.562043                 -0.562043       False  \n",
            "1    -0.271369               -0.135330                 -0.135330       False  \n",
            "2    -0.271369               -0.562043                 -0.562043       False  \n",
            "3    -0.087975                2.318264                  2.318264       False  \n",
            "4     0.387181                2.326185                  2.326185       False  \n"
          ]
        }
      ]
    },
    {
      "cell_type": "markdown",
      "source": [
        "**3. Sort the data set by saturated_ fat and produce a listing of the five food items highest in saturated fat. Comment on the validity of comparing food items of different sizes.**\n"
      ],
      "metadata": {
        "id": "XlcVgZnnI1dq"
      }
    },
    {
      "cell_type": "code",
      "source": [
        "# Sort the DataFrame by the 'saturated_fat' column in descending order\n",
        "sorted_df = saturated_fat.sort_values(by='saturated_fat', ascending=False)\n",
        "# Assuming 'food_item' is the column name for the food items\n",
        "print(saturated_fat[['food item', 'saturated_fat']])\n",
        "\n"
      ],
      "metadata": {
        "colab": {
          "base_uri": "https://localhost:8080/"
        },
        "id": "awlBU5nWgWpV",
        "outputId": "2ca1bb48-a193-4d06-a7d0-ca415c282614"
      },
      "execution_count": null,
      "outputs": [
        {
          "output_type": "stream",
          "name": "stdout",
          "text": [
            "                                  food item  saturated_fat\n",
            "0    GELATIN; DRY                  1 ENVELP            0.0\n",
            "1    SEAWEED; SPIRULINA; DRIED     1 OZ                0.8\n",
            "2    YEAST; BAKERS; DRY; ACTIVE    1 PKG               0.0\n",
            "3    PARMESAN CHEESE; GRATED       1 OZ                5.4\n",
            "4    PARMESAN CHEESE; GRATED       1 CUP              19.1\n",
            "..                                      ...            ...\n",
            "956  COFFEE; BREWED                6 FL OZ             0.0\n",
            "957  TEA; BREWED                   8 FL OZ             0.0\n",
            "958  TEA; INSTANT;PREPRD;UNSWEETEND8 FL OZ             0.0\n",
            "959  LETTUCE; BUTTERHEAD; RAW;LEAVE1 LEAF              0.0\n",
            "960  SALT                          1 TSP               0.0\n",
            "\n",
            "[961 rows x 2 columns]\n"
          ]
        }
      ]
    },
    {
      "cell_type": "markdown",
      "source": [
        "Regarding comparing food items of different sizes, such comparisons might not be fair. The way food is consumed  and portion sizes play a big role in nutritional impact. It would be better to compare foods on a per unit weight (like per 100 grams) to make the comparison more fair."
      ],
      "metadata": {
        "id": "Q7PiGFfHh-Jw"
      }
    },
    {
      "cell_type": "markdown",
      "source": [
        "**4. Create a new variable, saturated_ fat_ per_gram,** by dividing the amount of saturated fat  by the weight in grams. Sort the data set by saturated_ fat_ per_gram and produce a listing of the five food  items highest in saturated fat per gram. **Which food has the most saturated fat per gram?**\n"
      ],
      "metadata": {
        "id": "9XLIN3j6pMzp"
      }
    },
    {
      "cell_type": "code",
      "source": [
        "\n",
        "\n",
        "# Create a new column for saturated fat per gram\n",
        "saturated_fat['saturated_fat_per_gram'] = saturated_fat['saturated_fat'] / saturated_fat['weight_in_grams']\n",
        "\n",
        "# Sort the DataFrame by the new column in descending order\n",
        "saturated_fat_sorted = saturated_fat.sort_values(by='saturated_fat_per_gram', ascending=False)\n",
        "\n",
        "# Select the top five rows of the sorted DataFrame\n",
        "top_foods = saturated_fat_sorted.head(5)\n",
        "\n",
        "# Display the top five foods highest in saturated fat per gram\n",
        "print(top_foods[['food item', 'saturated_fat_per_gram']])\n"
      ],
      "metadata": {
        "colab": {
          "base_uri": "https://localhost:8080/"
        },
        "id": "J-wxUZ-ni9H3",
        "outputId": "cecbe5bf-636b-4555-ecd2-47e694cc0407"
      },
      "execution_count": null,
      "outputs": [
        {
          "output_type": "stream",
          "name": "stdout",
          "text": [
            "                                  food item  saturated_fat_per_gram\n",
            "908  BUTTER; SALTED                1 TBSP                  0.507143\n",
            "909  BUTTER; UNSALTED              1 TBSP                  0.507143\n",
            "710  BUTTER; UNSALTED              1/2 CUP                 0.505310\n",
            "709  BUTTER; SALTED                1/2 CUP                 0.505310\n",
            "913  BUTTER; UNSALTED              1 PAT                   0.500000\n"
          ]
        }
      ]
    },
    {
      "cell_type": "markdown",
      "source": [
        "Standardize (zero mean) the field saturated_ fat_ per_gram, and produce a listing of all the food items that are outliers at the high end of the scale. How many food items are outliers at the low end of the scale? Create a density plot for saturated_ fat_ per_gram\n"
      ],
      "metadata": {
        "id": "z7STdSl_I-kv"
      }
    },
    {
      "cell_type": "code",
      "source": [
        "\n",
        "import seaborn as sns\n",
        "import matplotlib.pyplot as plt\n",
        "\n",
        "\n",
        "# Create a new column for saturated fat per gram\n",
        "saturated_fat['saturated_fat_per_gram'] = saturated_fat['saturated_fat'] / saturated_fat['weight_in_grams']\n",
        "\n",
        "# Standardize the 'saturated_fat_per_gram' column\n",
        "saturated_fat['saturated_fat_per_gram_z'] = (saturated_fat['saturated_fat_per_gram'] - saturated_fat['saturated_fat_per_gram'].mean()) / saturated_fat['saturated_fat_per_gram'].std()\n",
        "\n",
        "\n",
        "# Find outliers\n",
        "outliers_high = saturated_fat[saturated_fat['saturated_fat_per_gram_z'] > 3]\n",
        "outliers_low = saturated_fat[saturated_fat['saturated_fat_per_gram_z'] < -3]\n",
        "\n",
        "# Print the food items that are outliers at the high end of the scale\n",
        "print(\"High-end outliers:\")\n",
        "print(outliers_high[['food item', 'saturated_fat_per_gram_z']])\n",
        "\n",
        "# Count the number of outliers at the low end of the scale\n",
        "num_low_end_outliers = outliers_low.shape[0]\n",
        "print(\"\\nNumber of low-end outliers:\", num_low_end_outliers)\n",
        "\n",
        "# Create a density plot for 'saturated_fat_per_gram'\n",
        "sns.kdeplot(saturated_fat['saturated_fat_per_gram'], shade=True)\n",
        "plt.title('Density Plot of Saturated Fat per Gram')\n",
        "plt.xlabel('Saturated Fat per Gram')\n",
        "plt.ylabel('Density')\n",
        "plt.show()\n"
      ],
      "metadata": {
        "colab": {
          "base_uri": "https://localhost:8080/",
          "height": 906
        },
        "id": "RUqGRSVBk3rN",
        "outputId": "6cd651c0-8fc1-471b-bd24-0b258184f0fb"
      },
      "execution_count": null,
      "outputs": [
        {
          "output_type": "stream",
          "name": "stdout",
          "text": [
            "High-end outliers:\n",
            "                                  food item  saturated_fat_per_gram_z\n",
            "210  CHOCOLATE; BITTER OT BAKING   1 OZ                      4.238469\n",
            "448  COCONUT; RAW; SHREDDED        1 CUP                     3.936637\n",
            "492  COCONUT; DRIED; SWEETND;SHREDD1 CUP                     4.202078\n",
            "576  COCONUT; RAW; PIECE           1 PIECE                   3.940837\n",
            "709  BUTTER; SALTED                1/2 CUP                   7.079055\n",
            "710  BUTTER; UNSALTED              1/2 CUP                   7.079055\n",
            "890  LARD                          1 CUP                     5.368580\n",
            "898  FATS; COOKING/VEGETBL SHORTENG1 TBSP                    3.276520\n",
            "899  LARD                          1 TBSP                    5.370282\n",
            "907  FATS; COOKING/VEGETBL SHORTENG1 CUP                     3.222049\n",
            "908  BUTTER; SALTED                1 TBSP                    7.106775\n",
            "909  BUTTER; UNSALTED              1 TBSP                    7.106775\n",
            "912  BUTTER; SALTED                1 PAT                     6.998763\n",
            "913  BUTTER; UNSALTED              1 PAT                     6.998763\n",
            "920  IMITATION CREAMERS; POWDERED  1 TSP                     4.730522\n",
            "\n",
            "Number of low-end outliers: 0\n"
          ]
        },
        {
          "output_type": "stream",
          "name": "stderr",
          "text": [
            "<ipython-input-49-6b3634888731>:25: FutureWarning: \n",
            "\n",
            "`shade` is now deprecated in favor of `fill`; setting `fill=True`.\n",
            "This will become an error in seaborn v0.14.0; please update your code.\n",
            "\n",
            "  sns.kdeplot(saturated_fat['saturated_fat_per_gram'], shade=True)\n"
          ]
        },
        {
          "output_type": "display_data",
          "data": {
            "text/plain": [
              "<Figure size 640x480 with 1 Axes>"
            ],
            "image/png": "[encoded data removed]"
          },
          "metadata": {}
        }
      ]
    },
    {
      "cell_type": "markdown",
      "source": [
        "Are there any missing values? If so, impute as necessary and explain your approach.\n"
      ],
      "metadata": {
        "id": "JJEsqc2sJBfe"
      }
    },
    {
      "cell_type": "code",
      "source": [
        "\n",
        "# Check for missing values in all columns\n",
        "missing_values = saturated_fat.isnull().sum()\n",
        "\n",
        "# Print the number of missing values for each column\n",
        "print(missing_values)\n"
      ],
      "metadata": {
        "colab": {
          "base_uri": "https://localhost:8080/"
        },
        "id": "U8gd5LM7m309",
        "outputId": "5560e84b-5858-4a7d-e97c-80b16ce88c5e"
      },
      "execution_count": null,
      "outputs": [
        {
          "output_type": "stream",
          "name": "stdout",
          "text": [
            "food item          0\n",
            "weight_in_grams    0\n",
            "saturated_fat      0\n",
            "cholesterol        0\n",
            "dtype: int64\n"
          ]
        }
      ]
    },
    {
      "cell_type": "markdown",
      "source": [
        "**Standardize (zero mean) the numeric variables, and determine if there are any outliers.**\n"
      ],
      "metadata": {
        "id": "lloizr8-JGu-"
      }
    },
    {
      "cell_type": "code",
      "source": [
        "from scipy import stats\n",
        "import numpy as np\n",
        "\n",
        "# Select numeric columns\n",
        "numeric_cols = saturated_fat.select_dtypes(include=['float64', 'int64']).columns\n",
        "\n",
        "# Standardize the numeric variables to have zero mean and unit variance\n",
        "saturated_fat[numeric_cols] = (saturated_fat[numeric_cols] - saturated_fat[numeric_cols].mean()) / saturated_fat[numeric_cols].std()\n",
        "\n",
        "# Determine outliers using the z-score\n",
        "# Any data point with a z-score greater than 3 or less than -3 is usually considered an outlier\n",
        "saturated_fat['is_outlier'] = saturated_fat[numeric_cols].apply(lambda x: np.abs(stats.zscore(x)) > 3).any(axis=1)\n",
        "\n",
        "# Count the total number of outliers\n",
        "total_outliers = saturated_fat['is_outlier'].sum()\n",
        "print(f\"Total outliers: {total_outliers}\")\n"
      ],
      "metadata": {
        "colab": {
          "base_uri": "https://localhost:8080/"
        },
        "id": "k68kv2gqoGnR",
        "outputId": "d61dc70a-02d9-483f-b21f-7e467a1b1903"
      },
      "execution_count": null,
      "outputs": [
        {
          "output_type": "stream",
          "name": "stdout",
          "text": [
            "Total outliers: 44\n"
          ]
        }
      ]
    },
    {
      "cell_type": "markdown",
      "source": [
        "**Summary of Findings**"
      ],
      "metadata": {
        "id": "-MBA2efZJIYn"
      }
    },
    {
      "cell_type": "markdown",
      "source": [],
      "metadata": {
        "id": "PC0pDmmts7Ly"
      }
    }
  ]
}