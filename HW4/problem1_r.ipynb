{
  "nbformat": 4,
  "nbformat_minor": 0,
  "metadata": {
    "colab": {
      "provenance": []
    },
    "kernelspec": {
      "name": "python3",
      "display_name": "Python 3"
    },
    "language_info": {
      "name": "python"
    }
  },
  "cells": [
    {
      "cell_type": "markdown",
      "source": [
        "Chris Hinckley"
      ],
      "metadata": {
        "id": "O6mbhcZe8GOX"
      }
    },
    {
      "cell_type": "code",
      "source": [
        "%reload_ext rpy2.ipython\n"
      ],
      "metadata": {
        "id": "qxeyHqeK774w"
      },
      "execution_count": 247,
      "outputs": []
    },
    {
      "cell_type": "markdown",
      "source": [
        "**1. Use the following dataset about adults:**"
      ],
      "metadata": {
        "id": "mv5-K7IshK8z"
      }
    },
    {
      "cell_type": "code",
      "source": [
        "%%R\n",
        "\n",
        "adult_training <- read.csv(url(\"https://raw.githubusercontent.com/bforoura/IDS/main/HW4/adult_training.csv\"), header=T)\n",
        "\n",
        "# 'read' loads the csv file into the 'adult_training' data frame."
      ],
      "metadata": {
        "id": "Fif6qe3F9yVH"
      },
      "execution_count": 248,
      "outputs": []
    },
    {
      "cell_type": "markdown",
      "source": [
        "**2. Create a contingency table of workclass and sex, and plot it.**"
      ],
      "metadata": {
        "id": "PVajJh-c29i9"
      }
    },
    {
      "cell_type": "code",
      "source": [
        "%%R\n",
        "cont_ws = table(adult_training$workclass, adult_training$sex)\n",
        "print(cont_ws)\n",
        "\n",
        "# A workclass/sex contingency table is created and named cont_table\n",
        "# The Table is Printed (not required)\n",
        "\n",
        "\n",
        "# Graph color mapping established\n",
        "colors <- c(\"navy\", \"orange\", \"brown\", \"red\", \"yellow\", \"green\", \"black\",\"blue\",\"purple\")\n",
        "\n",
        "# Bar plot features/labels\n",
        "barplot(cont_ws, col = colors, beside = TRUE)\n",
        "legend(\"center\", legend = c(\"?\", \"Federal-gov\", \"Local-gov\",\"Never-Worked\",\"Private\",\"SEI\",\"SEn-I\", \"State-gov\", \"Without-pay\"), fill = colors)"
      ],
      "metadata": {
        "colab": {
          "base_uri": "https://localhost:8080/",
          "height": 693
        },
        "id": "0lS682RgEsLi",
        "outputId": "50fa2a12-0c76-4fd4-a674-d37833097b1f"
      },
      "execution_count": 249,
      "outputs": [
        {
          "output_type": "stream",
          "name": "stdout",
          "text": [
            "                  \n",
            "                   Female Male\n",
            "  ?                   377  452\n",
            "  Federal-gov         149  305\n",
            "  Local-gov           377  592\n",
            "  Never-worked          1    4\n",
            "  Private            3574 6707\n",
            "  Self-emp-inc         54  444\n",
            "  Self-emp-not-inc    178  992\n",
            "  State-gov           201  385\n",
            "  Without-pay           1    4\n"
          ]
        },
        {
          "output_type": "display_data",
          "data": {
            "image/png": "[encoded data removed]"
          },
          "metadata": {}
        }
      ]
    },
    {
      "cell_type": "markdown",
      "source": [
        "Work_class / Sex **Contingency Table** (Top)\n",
        "Plotted with a **Bar Chart** (Bottom)"
      ],
      "metadata": {
        "id": "d2FaH8HxjG1F"
      }
    },
    {
      "cell_type": "code",
      "source": [],
      "metadata": {
        "id": "hqRTkAaNjFvq"
      },
      "execution_count": 249,
      "outputs": []
    },
    {
      "cell_type": "markdown",
      "source": [
        "**3. Create a contingency table of sex and marital status, and plot it**"
      ],
      "metadata": {
        "id": "TSANDDP2EwRZ"
      }
    },
    {
      "cell_type": "code",
      "source": [
        "%%R\n",
        "cont_sm = table(adult_training$marital_status, adult_training$sex)\n",
        "print(cont_sm)\n",
        "\n",
        "# sex / marital-status cont. table is created and printed"
      ],
      "metadata": {
        "colab": {
          "base_uri": "https://localhost:8080/"
        },
        "id": "cdAJLXGzjqHW",
        "outputId": "af856eb2-e59d-4866-92d3-87b90319eeb6"
      },
      "execution_count": 250,
      "outputs": [
        {
          "output_type": "stream",
          "name": "stderr",
          "text": [
            "WARNING:rpy2.rinterface_lib.callbacks:R[write to console]: Error in table(adult_training$marital_status, adult_training$sex) : \n",
            "  all arguments must have the same length\n",
            "\n"
          ]
        },
        {
          "output_type": "stream",
          "name": "stdout",
          "text": [
            "\n",
            "Error in table(adult_training$marital_status, adult_training$sex) : \n",
            "  all arguments must have the same length\n"
          ]
        }
      ]
    },
    {
      "cell_type": "markdown",
      "source": [
        "Plotting the Contingency Table between sex / marital_status"
      ],
      "metadata": {
        "id": "rNv5wtv-lzu6"
      }
    },
    {
      "cell_type": "code",
      "source": [
        "%%R\n",
        "colors <- c(\"red\",\"blue\",\"yellow\", \"green\", \"orange\",\"purple\",\"black\")\n",
        "\n",
        "# Color mapping created\n",
        "\n",
        "barplot(cont_sm, col = colors, beside = TRUE)\n",
        "legend(\"center\", legend = c(\"Divorced\", \"Married-AF\", \"Married-CIV\",\"Married-SA\",\"Never Married\",\"Separated\",\"Widowed\"), fill = colors)\n",
        "\n",
        "# Barplot and features/labels established"
      ],
      "metadata": {
        "id": "ANm9dSe5lxGN",
        "colab": {
          "base_uri": "https://localhost:8080/"
        },
        "outputId": "4f94fc29-d237-4b90-abaa-a311da2c1d08"
      },
      "execution_count": 251,
      "outputs": [
        {
          "output_type": "stream",
          "name": "stderr",
          "text": [
            "WARNING:rpy2.rinterface_lib.callbacks:R[write to console]: Error in (function (expr, envir = parent.frame(), enclos = if (is.list(envir) ||  : \n",
            "  object 'cont_sm' not found\n",
            "\n"
          ]
        },
        {
          "output_type": "stream",
          "name": "stdout",
          "text": [
            "\n",
            "Error in (function (expr, envir = parent.frame(), enclos = if (is.list(envir) ||  : \n",
            "  object 'cont_sm' not found\n"
          ]
        }
      ]
    },
    {
      "cell_type": "markdown",
      "source": [
        "**Part 4 and 5:**"
      ],
      "metadata": {
        "id": "codXn0hbrofM"
      }
    },
    {
      "cell_type": "markdown",
      "source": [
        "4. Create a new data frame, adultOver40, for those whose age > 40.\n",
        "5. Recreate the contingency table of sex and marital status for adultOver40."
      ],
      "metadata": {
        "id": "spec1VxCeRNW"
      }
    },
    {
      "cell_type": "code",
      "source": [
        "%%R\n",
        "adult_training <- read.csv(url(\"https://raw.githubusercontent.com/bforoura/IDS/main/HW4/adult_training.csv\"), header=T)\n",
        "\n",
        "# adultOver40 data frame created from adult_training\n",
        "\n",
        "adultOver40 <- adult_training[adult_training$age>40,]\n",
        "\n",
        "# marital_status/sex contingency table created and printed\n",
        "\n",
        "cont_over40_sm = table(adultOver40$marital_status, adultOver40$sex)\n",
        "print(cont_over40_sm)\n",
        "\n"
      ],
      "metadata": {
        "colab": {
          "base_uri": "https://localhost:8080/"
        },
        "id": "4B9-PggYpjIu",
        "outputId": "bcaa0147-7825-42d5-e966-f883fb427498"
      },
      "execution_count": 252,
      "outputs": [
        {
          "output_type": "stream",
          "name": "stderr",
          "text": [
            "WARNING:rpy2.rinterface_lib.callbacks:R[write to console]: Error in table(adultOver40$marital_status, adultOver40$sex) : \n",
            "  all arguments must have the same length\n",
            "\n"
          ]
        },
        {
          "output_type": "stream",
          "name": "stdout",
          "text": [
            "\n",
            "Error in table(adultOver40$marital_status, adultOver40$sex) : \n",
            "  all arguments must have the same length\n"
          ]
        }
      ]
    },
    {
      "cell_type": "markdown",
      "source": [
        "**6. Determine whether any outliers exist for the education field.**"
      ],
      "metadata": {
        "id": "DNxlgtcbhGMv"
      }
    },
    {
      "cell_type": "code",
      "source": [
        "%%R\n",
        "\n",
        "# Standardizing the education variable.  Altough not required, it is in the next question.\n",
        "\n",
        "adult_training$scaled_education <- scale(x = adult_training$education)\n",
        "\n",
        "summary(adult_training$scaled_education)\n",
        "\n",
        "# The three sigma rule first for the scaled_education attribute\n",
        "\n",
        "three_sigma_rule <- (adult_training$scaled_education < -3 |\n",
        "                     adult_training$scaled_education > 3 )\n",
        "\n",
        "# This outputs a text statement combined with number of outliers\n",
        "cat (\"There are\", sum(three_sigma_rule), \"outliers \\n\\n\")\n",
        "\n",
        "# All entries where scaled-education-values are less than −3 or greater than 3."
      ],
      "metadata": {
        "colab": {
          "base_uri": "https://localhost:8080/"
        },
        "id": "pFpw61fytK48",
        "outputId": "d7ef399c-dd93-48ef-ceba-08fd859aa29d"
      },
      "execution_count": 253,
      "outputs": [
        {
          "output_type": "stream",
          "name": "stdout",
          "text": [
            "There are 113 outliers \n",
            "\n"
          ]
        }
      ]
    },
    {
      "cell_type": "markdown",
      "source": [
        "**7. Standardize (zero mean) the age variable, and identify how many outliers there are. What is the most extreme outlier?**"
      ],
      "metadata": {
        "id": "RLbDrq_Og39t"
      }
    },
    {
      "cell_type": "code",
      "source": [
        "%%R\n",
        "\n",
        "# Standardizing the age variable.\n",
        "\n",
        "adult_training$scaled_age <- scale(x = adult_training$age)\n",
        "\n",
        "summary(adult_training$scaled_age)\n",
        "\n",
        "# Determine the three sigma rule first for the scaled_age attribute\n",
        "\n",
        "three_sigma_rule <- (adult_training$scaled_age < -3 |\n",
        "                     adult_training$scaled_age > 3 )\n",
        "\n",
        "# how many outliers are there?  This outputs a text statement combined with number of outliers\n",
        "cat (\"There are\", sum(three_sigma_rule), \"outliers \\n\\n\")\n",
        "\n",
        "print(\"The largest outlier z-score: \")\n",
        "\n",
        "# All entries where scaled-age-values are less than −3 or greater than 3.\n",
        "\n",
        "\n",
        "# The which() command returns the row indices for said data.\n",
        "# cat(\"The scaled education values that are outliers: \\n\\n\")\n",
        "# adult_training$scaled_age[which(three_sigma_rule)]\n",
        "\n",
        "\n",
        "# cat(\"\\n\\nThe scaled education values that are NOT outliers: \\n\\n\")\n",
        "# adult_training$scaled_age[which(!three_sigma_rule)]"
      ],
      "metadata": {
        "colab": {
          "base_uri": "https://localhost:8080/"
        },
        "id": "ZckaJLwdx-xV",
        "outputId": "f5a1ddc7-4b6d-41e5-eb28-1461c6b64939"
      },
      "execution_count": 254,
      "outputs": [
        {
          "output_type": "stream",
          "name": "stdout",
          "text": [
            "There are 60 outliers \n",
            "\n",
            "[1] \"The largest outlier z-score: \"\n"
          ]
        }
      ]
    },
    {
      "cell_type": "markdown",
      "source": [
        "**8. Age anomaly? Select only records with age  at least 80, and construct a histogram of age. Explain what you see.**"
      ],
      "metadata": {
        "id": "qJeop6co7_G2"
      }
    },
    {
      "cell_type": "code",
      "source": [
        "%%R\n",
        "\n",
        "# Data frame for over 80\n",
        "\n",
        "adult_Over80 <- adult_training[adult_training$age > 80,]\n",
        "\n",
        "# Histogram of Age - Over 80\n",
        "\n",
        "hist(adult_Over80$age, xlab = \"age\",main = \"Histogram of Age - Over 80\", col = \"orange\")"
      ],
      "metadata": {
        "colab": {
          "base_uri": "https://localhost:8080/",
          "height": 497
        },
        "id": "T25MRk9P8B9-",
        "outputId": "5e5db3aa-6f2e-427b-aff3-adbf9b93c9de"
      },
      "execution_count": 255,
      "outputs": [
        {
          "output_type": "display_data",
          "data": {
            "image/png": "[encoded data removed]"
          },
          "metadata": {}
        }
      ]
    },
    {
      "cell_type": "markdown",
      "source": [
        "There are many poeple 89 or above.  It is surprisingly high for that age.  Perhaps all ages over 89 are lumped together in the data?"
      ],
      "metadata": {
        "id": "9RzWtg0EAZyT"
      }
    },
    {
      "cell_type": "markdown",
      "source": [
        "**9. Summarization:**"
      ],
      "metadata": {
        "id": "NkHzSr_9hbLx"
      }
    }
  ]
}