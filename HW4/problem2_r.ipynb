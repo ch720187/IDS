{
  "nbformat": 4,
  "nbformat_minor": 0,
  "metadata": {
    "colab": {
      "provenance": []
    },
    "kernelspec": {
      "name": "python3",
      "display_name": "Python 3"
    },
    "language_info": {
      "name": "python"
    }
  },
  "cells": [
    {
      "cell_type": "markdown",
      "source": [
        "Chris Hinckley"
      ],
      "metadata": {
        "id": "CmaBfp2WDHSx"
      }
    },
    {
      "cell_type": "code",
      "execution_count": null,
      "metadata": {
        "colab": {
          "base_uri": "https://localhost:8080/"
        },
        "id": "P2mZTjpYDClH",
        "outputId": "4502805f-4805-4c4e-dc78-827b7c61f7ee"
      },
      "outputs": [
        {
          "output_type": "stream",
          "name": "stdout",
          "text": [
            "The rpy2.ipython extension is already loaded. To reload it, use:\n",
            "  %reload_ext rpy2.ipython\n"
          ]
        }
      ],
      "source": [
        "%load_ext rpy2.ipython"
      ]
    },
    {
      "cell_type": "markdown",
      "source": [
        "**Use the following nutrition dataset:** https://github.com/bforoura/IDS/blob/main/HW4/nutrition_subset.csvLinks **to an external site. The elements in the data set are food items of various sizes, ranging from a teaspoon of cinnamon to an entire carrot cake.**\n"
      ],
      "metadata": {
        "id": "ce5aebH11MFR"
      }
    },
    {
      "cell_type": "code",
      "source": [
        "%%R\n",
        "saturated_fat = read.csv(url(\"https://raw.githubusercontent.com/bforoura/IDS/main/HW4/nutrition_subset.csv\"), header=T)"
      ],
      "metadata": {
        "id": "S2auSIFHDseI"
      },
      "execution_count": null,
      "outputs": []
    },
    {
      "cell_type": "markdown",
      "source": [
        "**Sort the data set by saturated_ fat and produce a listing of the five food items highest in saturated fat. Comment on the validity of comparing food items of different sizes.**"
      ],
      "metadata": {
        "id": "GBc7FnhfJg0K"
      }
    },
    {
      "cell_type": "code",
      "source": [
        "%%R\n",
        "\n",
        "# Sort the data by 'saturated_fat' in descending order\n",
        "saturated_fat_sorted <- saturated_fat[order(-saturated_fat$saturated_fat), ]\n",
        "\n",
        "# Get the top five food items with the highest saturated fat\n",
        "top_saturated_fat_foods <- head(saturated_fat_sorted, 5)\n",
        "\n",
        "# Print the top five foods\n",
        "print(top_saturated_fat_foods)\n"
      ],
      "metadata": {
        "colab": {
          "base_uri": "https://localhost:8080/"
        },
        "id": "_leZpWbatwm3",
        "outputId": "d6807a04-da17-468f-96e9-2e80096a6c9a"
      },
      "execution_count": null,
      "outputs": [
        {
          "output_type": "stream",
          "name": "stdout",
          "text": [
            "                                 food.item weight_in_grams saturated_fat\n",
            "379 CHEESECAKE                    1 CAKE              1110         119.9\n",
            "536 ICE CREAM; VANLLA; RICH 16% FT1/2 GAL             1188         118.3\n",
            "459 YELLOWCAKE W/ CHOCFRSTNG;COMML1 CAKE              1108          92.0\n",
            "582 CREME PIE                     1 PIE                910          90.1\n",
            "891 LARD                          1 CUP                205          80.4\n",
            "    cholesterol\n",
            "379        2053\n",
            "536         703\n",
            "459         609\n",
            "582          46\n",
            "891         195\n"
          ]
        }
      ]
    },
    {
      "cell_type": "markdown",
      "source": [
        "**Create a new variable, saturated_ fat_ per_gram, by dividing the amount of saturated fat by the weight in grams. Sort the data set by saturated_ fat_ per_gram and produce a listing of the five food items highest in saturated fat per gram. Which food has the most saturated fat per gram?**"
      ],
      "metadata": {
        "id": "kLjON7PfJn-C"
      }
    },
    {
      "cell_type": "code",
      "source": [
        "%%R\n",
        "# Create a new variable 'saturated_fat_per_gram'\n",
        "saturated_fat$saturated_fat_per_gram <- saturated_fat$saturated_fat / saturated_fat$weight_in_grams\n",
        "\n",
        "# Sort the data by 'saturated_fat_per_gram' in descending order\n",
        "saturated_fat_sorted <- saturated_fat[order(-saturated_fat$saturated_fat_per_gram), ]\n",
        "\n",
        "# Get the top five food items with the highest 'saturated_fat_per_gram'\n",
        "top_saturated_fat_per_gram <- head(saturated_fat_sorted, 5)\n",
        "\n",
        "# Print the top five foods\n",
        "print(top_saturated_fat_per_gram)\n",
        "\n",
        "# The food with the most saturated fat per gram will be the first row in the sorted dataframe\n",
        "most_saturated_fat_per_gram <- top_saturated_fat_per_gram[1, ]\n",
        "print(most_saturated_fat_per_gram)\n"
      ],
      "metadata": {
        "colab": {
          "base_uri": "https://localhost:8080/"
        },
        "id": "eV71NTxqwQiF",
        "outputId": "d2f56aee-64ad-4b99-a68b-951de1c5f547"
      },
      "execution_count": null,
      "outputs": [
        {
          "output_type": "stream",
          "name": "stdout",
          "text": [
            "                                 food.item weight_in_grams saturated_fat\n",
            "909 BUTTER; SALTED                1 TBSP                14           7.1\n",
            "910 BUTTER; UNSALTED              1 TBSP                14           7.1\n",
            "710 BUTTER; SALTED                1/2 CUP              113          57.1\n",
            "711 BUTTER; UNSALTED              1/2 CUP              113          57.1\n",
            "913 BUTTER; SALTED                1 PAT                  5           2.5\n",
            "    cholesterol saturated_fat_per_gram\n",
            "909          31              0.5071429\n",
            "910          31              0.5071429\n",
            "710         247              0.5053097\n",
            "711         247              0.5053097\n",
            "913          11              0.5000000\n",
            "                                 food.item weight_in_grams saturated_fat\n",
            "909 BUTTER; SALTED                1 TBSP                14           7.1\n",
            "    cholesterol saturated_fat_per_gram\n",
            "909          31              0.5071429\n"
          ]
        }
      ]
    },
    {
      "cell_type": "markdown",
      "source": [
        "**Standardize (zero mean) the field saturated_ fat_ per_gram, and produce a listing of all the food items that are outliers at the high end of the scale. How many food items are outliers at the low end of the scale? Create a density plot for saturated_ fat_ per_gram**\n",
        "\n"
      ],
      "metadata": {
        "id": "_hHsKaY0JroI"
      }
    },
    {
      "cell_type": "code",
      "source": [
        "%%R\n",
        "# Standardize the 'saturated_fat_per_gram'\n",
        "saturated_fat$standardized_saturated_fat_per_gram <- scale(saturated_fat$saturated_fat_per_gram)\n",
        "\n",
        "# Determine outliers - commonly, any value more than 3 or less than -3 standard deviations is considered an outlier\n",
        "outliers_high <- subset(saturated_fat, standardized_saturated_fat_per_gram > 3)\n",
        "outliers_low <- subset(saturated_fat, standardized_saturated_fat_per_gram < -3)\n",
        "\n",
        "# Print the food items that are high-end outliers\n",
        "print(outliers_high)\n",
        "\n",
        "# Count and print the number of low-end outliers\n",
        "number_low_end_outliers <- nrow(outliers_low)\n",
        "print(number_low_end_outliers)\n",
        "\n",
        "# Create a density plot for 'saturated_fat_per_gram'\n",
        "library(ggplot2)\n",
        "ggplot(saturated_fat, aes(x = saturated_fat_per_gram)) +\n",
        "  geom_density(fill = \"blue\", alpha = 0.5) +\n",
        "  labs(title = \"Density Plot of Saturated Fat per Gram\",\n",
        "       x = \"Saturated Fat per Gram\",\n",
        "       y = \"Density\")\n"
      ],
      "metadata": {
        "colab": {
          "base_uri": "https://localhost:8080/",
          "height": 1000
        },
        "id": "DLt_PWRAxK5Z",
        "outputId": "c0c3ad95-c69c-4aec-f36b-67da8e518ef9"
      },
      "execution_count": null,
      "outputs": [
        {
          "output_type": "stream",
          "name": "stdout",
          "text": [
            "                                 food.item weight_in_grams saturated_fat\n",
            "211 CHOCOLATE; BITTER OT BAKING   1 OZ               28.35           9.0\n",
            "449 COCONUT; RAW; SHREDDED        1 CUP              80.00          23.8\n",
            "493 COCONUT; DRIED; SWEETND;SHREDD1 CUP              93.00          29.3\n",
            "577 COCONUT; RAW; PIECE           1 PIECE            45.00          13.4\n",
            "710 BUTTER; SALTED                1/2 CUP           113.00          57.1\n",
            "711 BUTTER; UNSALTED              1/2 CUP           113.00          57.1\n",
            "891 LARD                          1 CUP             205.00          80.4\n",
            "899 FATS; COOKING/VEGETBL SHORTENG1 TBSP             13.00           3.3\n",
            "900 LARD                          1 TBSP             13.00           5.1\n",
            "908 FATS; COOKING/VEGETBL SHORTENG1 CUP             205.00          51.3\n",
            "909 BUTTER; SALTED                1 TBSP             14.00           7.1\n",
            "910 BUTTER; UNSALTED              1 TBSP             14.00           7.1\n",
            "913 BUTTER; SALTED                1 PAT               5.00           2.5\n",
            "914 BUTTER; UNSALTED              1 PAT               5.00           2.5\n",
            "921 IMITATION CREAMERS; POWDERED  1 TSP               2.00           0.7\n",
            "    cholesterol saturated_fat_per_gram standardized_saturated_fat_per_gram\n",
            "211           0              0.3174603                            4.238469\n",
            "449           0              0.2975000                            3.936637\n",
            "493           0              0.3150538                            4.202078\n",
            "577           0              0.2977778                            3.940837\n",
            "710         247              0.5053097                            7.079055\n",
            "711         247              0.5053097                            7.079055\n",
            "891         195              0.3921951                            5.368580\n",
            "899           0              0.2538462                            3.276520\n",
            "900          12              0.3923077                            5.370282\n",
            "908           0              0.2502439                            3.222049\n",
            "909          31              0.5071429                            7.106775\n",
            "910          31              0.5071429                            7.106775\n",
            "913          11              0.5000000                            6.998763\n",
            "914          11              0.5000000                            6.998763\n",
            "921           0              0.3500000                            4.730522\n",
            "[1] 0\n"
          ]
        },
        {
          "output_type": "display_data",
          "data": {
            "image/png": "[encoded data removed]"
          },
          "metadata": {}
        }
      ]
    },
    {
      "cell_type": "markdown",
      "source": [
        "**Are there any missing values? If so, impute as necessary and explain your approach.**\n",
        "\n"
      ],
      "metadata": {
        "id": "X6wB5wJNJuf9"
      }
    },
    {
      "cell_type": "code",
      "source": [
        "%%R\n",
        "# Check for missing values in each column\n",
        "missing_values <- sapply(saturated_fat, function(x) sum(is.na(x)))\n",
        "\n",
        "# Print the number of missing values for each column\n",
        "print(missing_values)\n",
        "\n",
        "# If there are missing values, impute them\n",
        "# Here, I use mean imputation\n",
        "saturated_fat <- saturated_fat %>%\n",
        "  mutate(across(where(is.numeric), ~ifelse(is.na(.), mean(., na.rm = TRUE), .)))\n"
      ],
      "metadata": {
        "colab": {
          "base_uri": "https://localhost:8080/"
        },
        "id": "nLiCHBkfy7UM",
        "outputId": "c0547418-0f77-4171-c72e-0a18b68cc6ca"
      },
      "execution_count": null,
      "outputs": [
        {
          "output_type": "stream",
          "name": "stdout",
          "text": [
            "                          food.item                     weight_in_grams \n",
            "                                  0                                   0 \n",
            "                      saturated_fat                         cholesterol \n",
            "                                  0                                   0 \n",
            "             saturated_fat_per_gram standardized_saturated_fat_per_gram \n",
            "                                  0                                   0 \n"
          ]
        }
      ]
    },
    {
      "cell_type": "markdown",
      "source": [
        "**Standardize (zero mean) the numeric variables, and determine if there are any outliers.**"
      ],
      "metadata": {
        "id": "jr3GJkCyJ1Hr"
      }
    },
    {
      "cell_type": "code",
      "source": [
        "%%R\n",
        "library(dplyr)\n",
        "\n",
        "# Standardize numeric variables\n",
        "saturated_fat_standardized <- saturated_fat %>%\n",
        "  mutate(across(where(is.numeric), scale))  # scale() function standardizes data\n",
        "\n",
        "# Identify outliers\n",
        "saturated_fat_outliers <- saturated_fat_standardized %>%\n",
        "  mutate(outlier = ifelse(\n",
        "    abs(standardized_saturated_fat_per_gram) > 3, \"Yes\", \"No\"\n",
        "  ))\n",
        "\n",
        "# Count the number of outliers\n",
        "outliers_count <- sum(saturated_fat_outliers$outlier == \"Yes\")\n",
        "\n",
        "# Print the outliers\n",
        "print(saturated_fat_outliers %>% filter(outlier == \"Yes\"))\n",
        "\n",
        "# Print the count of outliers\n",
        "print(outliers_count)\n"
      ],
      "metadata": {
        "colab": {
          "base_uri": "https://localhost:8080/"
        },
        "id": "vvVMg0G6zuCq",
        "outputId": "6c3e033e-241a-4107-9ca3-5740049aae1a"
      },
      "execution_count": null,
      "outputs": [
        {
          "output_type": "stream",
          "name": "stdout",
          "text": [
            "                                food.item weight_in_grams saturated_fat\n",
            "1  CHOCOLATE; BITTER OT BAKING   1 OZ          -0.6881917    0.46651298\n",
            "2  COCONUT; RAW; SHREDDED        1 CUP         -0.3945746    1.84397996\n",
            "3  COCONUT; DRIED; SWEETND;SHREDD1 CUP         -0.3206729    2.35587648\n",
            "4  COCONUT; RAW; PIECE           1 PIECE       -0.5935407    0.87603019\n",
            "5  BUTTER; SALTED                1/2 CUP       -0.2069780    4.94328069\n",
            "6  BUTTER; UNSALTED              1/2 CUP       -0.2069780    4.94328069\n",
            "7  LARD                          1 CUP          0.3160186    7.11186048\n",
            "8  FATS; COOKING/VEGETBL SHORTENG1 TBSP        -0.7754526   -0.06399796\n",
            "9  LARD                          1 TBSP        -0.7754526    0.10353181\n",
            "10 FATS; COOKING/VEGETBL SHORTENG1 CUP          0.3160186    4.40346255\n",
            "11 BUTTER; SALTED                1 TBSP        -0.7697678    0.28967600\n",
            "12 BUTTER; UNSALTED              1 TBSP        -0.7697678    0.28967600\n",
            "13 BUTTER; SALTED                1 PAT         -0.8209306   -0.13845564\n",
            "14 BUTTER; UNSALTED              1 PAT         -0.8209306   -0.13845564\n",
            "15 IMITATION CREAMERS; POWDERED  1 TSP         -0.8379848   -0.30598540\n",
            "   cholesterol saturated_fat_per_gram standardized_saturated_fat_per_gram\n",
            "1  -0.27136904               4.238469                            4.238469\n",
            "2  -0.27136904               3.936637                            3.936637\n",
            "3  -0.27136904               4.202078                            4.202078\n",
            "4  -0.27136904               3.940837                            3.940837\n",
            "5   1.78764050               7.079055                            7.079055\n",
            "6   1.78764050               7.079055                            7.079055\n",
            "7   1.35416481               5.368580                            5.368580\n",
            "8  -0.27136904               3.276520                            3.276520\n",
            "9  -0.17133619               5.370282                            5.370282\n",
            "10 -0.27136904               3.222049                            3.222049\n",
            "11 -0.01295084               7.106775                            7.106775\n",
            "12 -0.01295084               7.106775                            7.106775\n",
            "13 -0.17967226               6.998763                            6.998763\n",
            "14 -0.17967226               6.998763                            6.998763\n",
            "15 -0.27136904               4.730522                            4.730522\n",
            "   outlier\n",
            "1      Yes\n",
            "2      Yes\n",
            "3      Yes\n",
            "4      Yes\n",
            "5      Yes\n",
            "6      Yes\n",
            "7      Yes\n",
            "8      Yes\n",
            "9      Yes\n",
            "10     Yes\n",
            "11     Yes\n",
            "12     Yes\n",
            "13     Yes\n",
            "14     Yes\n",
            "15     Yes\n",
            "[1] 15\n"
          ]
        }
      ]
    },
    {
      "cell_type": "markdown",
      "source": [
        "**Summary of Findings**"
      ],
      "metadata": {
        "id": "XGN37zJUJwyF"
      }
    }
  ]
}